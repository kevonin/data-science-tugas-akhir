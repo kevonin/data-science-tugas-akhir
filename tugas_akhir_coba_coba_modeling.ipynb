{
 "cells": [
  {
   "cell_type": "markdown",
   "id": "30b466b5",
   "metadata": {},
   "source": [
    "## Tugas Akhir Microcredential Associate Data Scientist"
   ]
  },
  {
   "cell_type": "markdown",
   "id": "97eaf059",
   "metadata": {},
   "source": [
    "### ITS-05 kelompok 3"
   ]
  },
  {
   "cell_type": "markdown",
   "id": "236fea49",
   "metadata": {},
   "source": [
    "#### Preface"
   ]
  },
  {
   "attachments": {
    "index.png": {
     "image/png": "[encoded data removed]"
    }
   },
   "cell_type": "markdown",
   "id": "8758be2d",
   "metadata": {},
   "source": [
    "![index.png](attachment:index.png)"
   ]
  },
  {
   "cell_type": "markdown",
   "id": "04183c4d",
   "metadata": {},
   "source": [
    "### Import Necessary Library and Dataset"
   ]
  },
  {
   "cell_type": "code",
   "execution_count": 1,
   "id": "a1aa335c",
   "metadata": {},
   "outputs": [],
   "source": [
    "import pandas as pd\n",
    "import numpy as np\n",
    "import matplotlib.pyplot as plt\n",
    "\n",
    "import seaborn as sns\n",
    "import missingno as mno"
   ]
  },
  {
   "cell_type": "code",
   "execution_count": 2,
   "id": "9e913c2f",
   "metadata": {},
   "outputs": [],
   "source": [
    "# import 3 periode of season\n",
    "# 2018-10 ~ 2019-03\n",
    "# 2019-10 ~ 2020-03\n",
    "# 2020-10 ~ 2021-03\n",
    "\n",
    "ignore_data = [\"8888\"] # temporary, kalau ada ide buat ngolah nilai \"8888\", command ini bisa dihilangkan\n",
    "\n",
    "df = pd.read_excel('dataset_iklim_cilacap_before_cleaning.xlsx', na_values = ignore_data)"
   ]
  },
  {
   "cell_type": "code",
   "execution_count": 3,
   "id": "d35b8be9",
   "metadata": {
    "scrolled": true
   },
   "outputs": [
    {
     "name": "stdout",
     "output_type": "stream",
     "text": [
      "DataFrame shape : (547, 11)\n",
      "\n",
      "DataFrame columns: \n",
      "Index(['Tanggal', 'Tn', 'Tx', 'Tavg', 'RH_avg', 'RR', 'ss', 'ff_x', 'ddd_x',\n",
      "       'ff_avg', 'ddd_car'],\n",
      "      dtype='object')\n",
      "\n",
      "Columns type: Tanggal     object\n",
      "Tn         float64\n",
      "Tx         float64\n",
      "Tavg       float64\n",
      "RH_avg     float64\n",
      "RR         float64\n",
      "ss         float64\n",
      "ff_x       float64\n",
      "ddd_x      float64\n",
      "ff_avg     float64\n",
      "ddd_car     object\n",
      "dtype: object\n"
     ]
    },
    {
     "data": {
      "text/html": [
       "<div>\n",
       "<style scoped>\n",
       "    .dataframe tbody tr th:only-of-type {\n",
       "        vertical-align: middle;\n",
       "    }\n",
       "\n",
       "    .dataframe tbody tr th {\n",
       "        vertical-align: top;\n",
       "    }\n",
       "\n",
       "    .dataframe thead th {\n",
       "        text-align: right;\n",
       "    }\n",
       "</style>\n",
       "<table border=\"1\" class=\"dataframe\">\n",
       "  <thead>\n",
       "    <tr style=\"text-align: right;\">\n",
       "      <th></th>\n",
       "      <th>Tanggal</th>\n",
       "      <th>Tn</th>\n",
       "      <th>Tx</th>\n",
       "      <th>Tavg</th>\n",
       "      <th>RH_avg</th>\n",
       "      <th>RR</th>\n",
       "      <th>ss</th>\n",
       "      <th>ff_x</th>\n",
       "      <th>ddd_x</th>\n",
       "      <th>ff_avg</th>\n",
       "      <th>ddd_car</th>\n",
       "    </tr>\n",
       "  </thead>\n",
       "  <tbody>\n",
       "    <tr>\n",
       "      <th>0</th>\n",
       "      <td>01-10-2018</td>\n",
       "      <td>23.0</td>\n",
       "      <td>30.4</td>\n",
       "      <td>27.2</td>\n",
       "      <td>83.0</td>\n",
       "      <td>NaN</td>\n",
       "      <td>3.2</td>\n",
       "      <td>5.0</td>\n",
       "      <td>140.0</td>\n",
       "      <td>2.0</td>\n",
       "      <td>E</td>\n",
       "    </tr>\n",
       "    <tr>\n",
       "      <th>1</th>\n",
       "      <td>02-10-2018</td>\n",
       "      <td>26.0</td>\n",
       "      <td>NaN</td>\n",
       "      <td>27.7</td>\n",
       "      <td>79.0</td>\n",
       "      <td>0.0</td>\n",
       "      <td>NaN</td>\n",
       "      <td>4.0</td>\n",
       "      <td>130.0</td>\n",
       "      <td>2.0</td>\n",
       "      <td>N</td>\n",
       "    </tr>\n",
       "    <tr>\n",
       "      <th>2</th>\n",
       "      <td>03-10-2018</td>\n",
       "      <td>25.0</td>\n",
       "      <td>30.4</td>\n",
       "      <td>27.2</td>\n",
       "      <td>80.0</td>\n",
       "      <td>NaN</td>\n",
       "      <td>8.9</td>\n",
       "      <td>7.0</td>\n",
       "      <td>150.0</td>\n",
       "      <td>3.0</td>\n",
       "      <td>E</td>\n",
       "    </tr>\n",
       "  </tbody>\n",
       "</table>\n",
       "</div>"
      ],
      "text/plain": [
       "      Tanggal    Tn    Tx  Tavg  RH_avg   RR   ss  ff_x  ddd_x  ff_avg ddd_car\n",
       "0  01-10-2018  23.0  30.4  27.2    83.0  NaN  3.2   5.0  140.0     2.0      E \n",
       "1  02-10-2018  26.0   NaN  27.7    79.0  0.0  NaN   4.0  130.0     2.0      N \n",
       "2  03-10-2018  25.0  30.4  27.2    80.0  NaN  8.9   7.0  150.0     3.0      E "
      ]
     },
     "execution_count": 3,
     "metadata": {},
     "output_type": "execute_result"
    }
   ],
   "source": [
    "# Quick data check\n",
    "\n",
    "print(f\"DataFrame shape : {df.shape}\\n\")\n",
    "print(f\"DataFrame columns: \\n{df.columns}\\n\")\n",
    "print(f\"Columns type: {df.dtypes}\")\n",
    "\n",
    "df.head(3)"
   ]
  },
  {
   "cell_type": "raw",
   "id": "346edebb",
   "metadata": {},
   "source": [
    "Keterangan (dari BMKG):\n",
    "\n",
    "8888: data tidak terukur\n",
    "9999: Tidak Ada Data (tidak dilakukan pengukuran)\n",
    "\"Tn: Temperatur minimum\t (°C)\"\n",
    "Tx: Temperatur maksimum (°C)\n",
    "Tavg: Temperatur rata-rata (°C)\n",
    "RH_avg: Kelembapan rata-rata (%)\n",
    "RR: Curah hujan (mm)\n",
    "ss: Lamanya penyinaran matahari (jam)\n",
    "ff_x: Kecepatan angin maksimum (m/s)\n",
    "ddd_x: Arah angin saat kecepatan maksimum (°)\n",
    "ff_avg: Kecepatan angin rata-rata (m/s)\n",
    "ddd_car: Arah angin terbanyak (°)"
   ]
  },
  {
   "cell_type": "code",
   "execution_count": 5,
   "id": "3a272643",
   "metadata": {},
   "outputs": [],
   "source": [
    "# Quick data prep\n",
    "\n",
    "# kita ingin mengolah dataset ini di domain timeseries\n",
    "from datetime import datetime\n",
    "df['datetime'] = [datetime.strptime(x,'%d-%m-%Y') for x in df['Tanggal']] # change string 'Tanngal' to timeseries format\n",
    "\n",
    "# change datetime as index; \n",
    "df = df.set_index('datetime')\n",
    "df.drop('Tanggal', axis=1, inplace=True)\n",
    "\n",
    "# change 'ddd_car' to categorical\n",
    "df['ddd_car'] = pd.Categorical(df.ddd_car)\n",
    "\n",
    "# renaming columns\n",
    "df.rename(columns={\"RR\": \"curah_hujan\", \"Tavg\": \"temp_avg\", \"RH_avg\": \"humid_avg\", \n",
    "                   \"ss\": \"sun_expo\", \"ff_x\": \"wind_max\", \"ff_avg\": \"wind_avg\", \"Tn\": \"temp_min\", \n",
    "                   \"Tx\": \"temp_max\", \"ddd_car\": \"wind_dir\", \"ddd_x\": \"wind_dir_max\"}, inplace=True)\n",
    "\n",
    "\n",
    "\n",
    "# Menambahkan kolom 'Year', 'Month', 'Weekday' untuk mempermudah visualisasi dan statiscical need\n",
    "df['Year'] = df.index.year\n",
    "df['Month'] = df.index.month\n",
    "df['Weekday'] = df.index.weekday"
   ]
  },
  {
   "cell_type": "code",
   "execution_count": 6,
   "id": "4e7832b4",
   "metadata": {},
   "outputs": [],
   "source": [
    "# Dividing 1 dataset to 3 periode (just for easier visualization & statistical description)\n",
    "# 2018-10 ~ 2019-03\n",
    "# 2019-10 ~ 2020-03\n",
    "# 2020-10 ~ 2021-03\n",
    "\n",
    "df_periode1 = df.loc['2018-10-01':'2019-03-01']\n",
    "df_periode2 = df.loc['2019-10-01':'2020-03-01']\n",
    "df_periode3 = df.loc['2020-10-01':'2021-03-01']"
   ]
  },
  {
   "cell_type": "code",
   "execution_count": null,
   "id": "81e73a9e",
   "metadata": {
    "scrolled": true
   },
   "outputs": [],
   "source": [
    "df_periode1.head(3)"
   ]
  },
  {
   "cell_type": "code",
   "execution_count": null,
   "id": "33ece05f",
   "metadata": {},
   "outputs": [],
   "source": []
  },
  {
   "cell_type": "markdown",
   "id": "5e849058",
   "metadata": {},
   "source": [
    "### Exploratory Data Analysis"
   ]
  },
  {
   "cell_type": "code",
   "execution_count": null,
   "id": "8dde9972",
   "metadata": {},
   "outputs": [],
   "source": [
    "#### Curah Hujan"
   ]
  },
  {
   "cell_type": "code",
   "execution_count": null,
   "id": "e58c0087",
   "metadata": {
    "scrolled": true
   },
   "outputs": [],
   "source": [
    "fig, axes = plt.subplots(nrows=3, ncols=1, figsize=(14,12))\n",
    "\n",
    "axes[0].plot(df_periode1['curah_hujan'], linestyle=':')\n",
    "axes[0].set_title('Periode 2018-10 ~ 2019-03')\n",
    "\n",
    "axes[1].plot(df_periode2['curah_hujan'], linestyle=':')\n",
    "axes[1].set_title('Periode 2019-10 ~ 2020-03')\n",
    "\n",
    "axes[2].plot(df_periode3['curah_hujan'], linestyle=':')\n",
    "axes[2].set_title('Periode 2020-10 ~ 2021-03')\n",
    "\n",
    "plt.tight_layout()"
   ]
  },
  {
   "cell_type": "code",
   "execution_count": null,
   "id": "6c470599",
   "metadata": {},
   "outputs": [],
   "source": []
  },
  {
   "cell_type": "markdown",
   "id": "8a854f9e",
   "metadata": {},
   "source": [
    "##### Curah hujan per periode"
   ]
  },
  {
   "cell_type": "code",
   "execution_count": null,
   "id": "087f18fd",
   "metadata": {},
   "outputs": [],
   "source": [
    "# Note : Urutan bulan boxplots dibawah dimulai dari yang terkecil ke terbesar. Keep that in mind when analyzing.\n",
    "# Mau diubah ke 10-11-12-01-02-03 tapi masih belum bisa"
   ]
  },
  {
   "cell_type": "code",
   "execution_count": null,
   "id": "5f2225e1",
   "metadata": {},
   "outputs": [],
   "source": [
    "df_periode1.boxplot(column=['curah_hujan'], by='Month', figsize=(8, 4))\n",
    "plt.title('Curah Hujan periode 2018-10 ~ 2019-03')\n",
    "plt.tight_layout()\n",
    "\n",
    "df_periode2.boxplot(column=['curah_hujan'], by='Month', figsize=(8, 4))\n",
    "plt.title('Curah Hujan periode 2019-10 ~ 2020-03')\n",
    "plt.tight_layout()\n",
    "\n",
    "df_periode3.boxplot(column=['curah_hujan'], by='Month', figsize=(8, 4))\n",
    "plt.title('Curah Hujan periode 2020-10 ~ 2021-03')\n",
    "plt.tight_layout()\n"
   ]
  },
  {
   "cell_type": "code",
   "execution_count": null,
   "id": "3208fd1c",
   "metadata": {},
   "outputs": [],
   "source": [
    "def pp(judul, *args):\n",
    "    sns.pairplot(df, x_vars=args, y_vars=['curah_hujan'], height=4, aspect=1, kind='scatter', plot_kws={'alpha':0.4})\n",
    "    plt.suptitle(judul)\n",
    "    plt.tight_layout()\n",
    "    plt.show()\n",
    "    \n",
    "pp('Suhu vs Curah Hujan', 'temp_min', 'temp_max', 'temp_avg')\n",
    "pp('Kecepatan Angin vs Curah Hujan', 'wind_max', 'wind_avg')\n",
    "pp('Arah mata angin vs Curah Hujan', 'wind_dir_max')\n",
    "pp('Kelembapan vs Curah Hujan', 'humid_avg')\n",
    "pp('Lamanya penyinaran matahari vs Curah Hujan', 'sun_expo')"
   ]
  },
  {
   "cell_type": "code",
   "execution_count": null,
   "id": "d2a61366",
   "metadata": {},
   "outputs": [],
   "source": []
  },
  {
   "cell_type": "markdown",
   "id": "68836785",
   "metadata": {},
   "source": [
    "### Data Preparation (data cleaning)"
   ]
  },
  {
   "cell_type": "code",
   "execution_count": null,
   "id": "0232c65c",
   "metadata": {},
   "outputs": [],
   "source": []
  },
  {
   "cell_type": "code",
   "execution_count": null,
   "id": "0178d8fb",
   "metadata": {},
   "outputs": [],
   "source": []
  },
  {
   "cell_type": "markdown",
   "id": "9befa873",
   "metadata": {},
   "source": [
    "### Before Modeling"
   ]
  },
  {
   "cell_type": "markdown",
   "id": "e618231b",
   "metadata": {},
   "source": [
    "#### Train-Validation Split"
   ]
  },
  {
   "cell_type": "code",
   "execution_count": 7,
   "id": "ad4ca3c4",
   "metadata": {},
   "outputs": [
    {
     "name": "stdout",
     "output_type": "stream",
     "text": [
      "Before dropna : (547, 13)\n",
      "After dropna : (312, 13)\n"
     ]
    }
   ],
   "source": [
    "# just a temporary dropna, soalnya belum di cleaning\n",
    "print(f\"Before dropna : {df.shape}\")\n",
    "df.dropna(axis=0, inplace=True)\n",
    "print(f\"After dropna : {df.shape}\")"
   ]
  },
  {
   "cell_type": "code",
   "execution_count": null,
   "id": "3da33e33",
   "metadata": {},
   "outputs": [],
   "source": [
    "# Here we use 8 features, temporary\n",
    "\n",
    "X = df.loc[:, ['temp_min', 'temp_max', 'temp_avg', 'humid_avg', 'wind_max','wind_avg', 'wind_dir_max', 'sun_expo']]\n",
    "y = df.loc[:, ['curah_hujan']]"
   ]
  },
  {
   "cell_type": "code",
   "execution_count": 8,
   "id": "a806d65b",
   "metadata": {},
   "outputs": [],
   "source": [
    "# COBA\n",
    "\n",
    "X = df.loc[:, ['temp_min', 'temp_max', 'temp_avg', 'humid_avg', 'wind_max','wind_avg', 'sun_expo']]\n",
    "y = df.loc[:, ['curah_hujan']]"
   ]
  },
  {
   "cell_type": "raw",
   "id": "df80c4fe",
   "metadata": {},
   "source": [
    "# Train-Validation Split\n",
    "# I commented these because we should do train_test_split & feature scaling before every modeling process with each choosen feature (maybe)\n",
    "from sklearn.model_selection import train_test_split\n",
    "\n",
    "X_train, X_test, y_train, y_test = train_test_split(X, y, train_size=0.7, random_state = 100)"
   ]
  },
  {
   "cell_type": "raw",
   "id": "9d63fe7f",
   "metadata": {
    "scrolled": true
   },
   "source": [
    "print(f\"Banyak data latih setelah dilakukan Train-Validation Split: {len(X_train)}\")\n",
    "print(f\"Banyak data uji setelah dilakukan Train-Validation Split: {len(X_test)}\")"
   ]
  },
  {
   "cell_type": "markdown",
   "id": "8f6a21de",
   "metadata": {},
   "source": [
    "#### Feature Scaling"
   ]
  },
  {
   "cell_type": "markdown",
   "id": "3fa1d6f6",
   "metadata": {},
   "source": [
    "Kenapa saya melakukan Feature scaling setelah train-test split?\n",
    "\n",
    "\"The fit method is calculating the mean and variance of each of the features present in our data. \n",
    "The transform method is transforming all the features using the respective mean and variance.\n",
    "\n",
    "Now, we want scaling to be applied to our test data too and at the same time do not want to be biased with our model. \n",
    "We want our test data to be a completely new and a surprise set for our model. \n",
    "The transform method helps us in this case.\"\n",
    "\n",
    "sumber : https://towardsdatascience.com/what-and-why-behind-fit-transform-vs-transform-in-scikit-learn-78f915cf96fe"
   ]
  },
  {
   "cell_type": "raw",
   "id": "503a15c0",
   "metadata": {},
   "source": [
    "from sklearn.preprocessing import StandardScaler"
   ]
  },
  {
   "cell_type": "raw",
   "id": "34b38fdb",
   "metadata": {},
   "source": [
    "#Buat objek scaler\n",
    "scaler = StandardScaler()\n",
    "\n",
    "#Sesuaikan scaler dengan data\n",
    "scaler.fit(X_train)\n",
    "\n",
    "#Mengubah data kereta \n",
    "X_train = scaler.transform(X_train)\n",
    "\n",
    "#Mengubah data X_test agar sesuai dengan skala X_train\n",
    "X_test = scaler.transform(X_test)"
   ]
  },
  {
   "cell_type": "markdown",
   "id": "50a952f1",
   "metadata": {},
   "source": [
    "### Feature Engineering"
   ]
  },
  {
   "cell_type": "code",
   "execution_count": null,
   "id": "e39cb923",
   "metadata": {},
   "outputs": [],
   "source": [
    "# Feature Selection"
   ]
  },
  {
   "cell_type": "code",
   "execution_count": null,
   "id": "9a7abe5e",
   "metadata": {},
   "outputs": [],
   "source": []
  },
  {
   "cell_type": "code",
   "execution_count": 15,
   "id": "516aa7bd",
   "metadata": {},
   "outputs": [
    {
     "ename": "ValueError",
     "evalue": "Unknown label type: 'continuous'",
     "output_type": "error",
     "traceback": [
      "\u001b[1;31m---------------------------------------------------------------------------\u001b[0m",
      "\u001b[1;31mValueError\u001b[0m                                Traceback (most recent call last)",
      "\u001b[1;32m<ipython-input-15-368b50fc7cc9>\u001b[0m in \u001b[0;36m<module>\u001b[1;34m\u001b[0m\n\u001b[0;32m      2\u001b[0m \u001b[0mmodel\u001b[0m \u001b[1;33m=\u001b[0m \u001b[0mExtraTreesClassifier\u001b[0m\u001b[1;33m(\u001b[0m\u001b[1;33m)\u001b[0m\u001b[1;33m\u001b[0m\u001b[1;33m\u001b[0m\u001b[0m\n\u001b[0;32m      3\u001b[0m \u001b[0my\u001b[0m \u001b[1;33m=\u001b[0m \u001b[0my\u001b[0m\u001b[1;33m.\u001b[0m\u001b[0mvalues\u001b[0m\u001b[1;33m.\u001b[0m\u001b[0mravel\u001b[0m\u001b[1;33m(\u001b[0m\u001b[1;33m)\u001b[0m\u001b[1;33m\u001b[0m\u001b[1;33m\u001b[0m\u001b[0m\n\u001b[1;32m----> 4\u001b[1;33m \u001b[0mmodel\u001b[0m\u001b[1;33m.\u001b[0m\u001b[0mfit\u001b[0m\u001b[1;33m(\u001b[0m\u001b[0mX\u001b[0m\u001b[1;33m,\u001b[0m \u001b[0my\u001b[0m\u001b[1;33m)\u001b[0m\u001b[1;33m\u001b[0m\u001b[1;33m\u001b[0m\u001b[0m\n\u001b[0m",
      "\u001b[1;32m~\\anaconda3\\lib\\site-packages\\sklearn\\ensemble\\_forest.py\u001b[0m in \u001b[0;36mfit\u001b[1;34m(self, X, y, sample_weight)\u001b[0m\n\u001b[0;32m    329\u001b[0m         \u001b[0mself\u001b[0m\u001b[1;33m.\u001b[0m\u001b[0mn_outputs_\u001b[0m \u001b[1;33m=\u001b[0m \u001b[0my\u001b[0m\u001b[1;33m.\u001b[0m\u001b[0mshape\u001b[0m\u001b[1;33m[\u001b[0m\u001b[1;36m1\u001b[0m\u001b[1;33m]\u001b[0m\u001b[1;33m\u001b[0m\u001b[1;33m\u001b[0m\u001b[0m\n\u001b[0;32m    330\u001b[0m \u001b[1;33m\u001b[0m\u001b[0m\n\u001b[1;32m--> 331\u001b[1;33m         \u001b[0my\u001b[0m\u001b[1;33m,\u001b[0m \u001b[0mexpanded_class_weight\u001b[0m \u001b[1;33m=\u001b[0m \u001b[0mself\u001b[0m\u001b[1;33m.\u001b[0m\u001b[0m_validate_y_class_weight\u001b[0m\u001b[1;33m(\u001b[0m\u001b[0my\u001b[0m\u001b[1;33m)\u001b[0m\u001b[1;33m\u001b[0m\u001b[1;33m\u001b[0m\u001b[0m\n\u001b[0m\u001b[0;32m    332\u001b[0m \u001b[1;33m\u001b[0m\u001b[0m\n\u001b[0;32m    333\u001b[0m         \u001b[1;32mif\u001b[0m \u001b[0mgetattr\u001b[0m\u001b[1;33m(\u001b[0m\u001b[0my\u001b[0m\u001b[1;33m,\u001b[0m \u001b[1;34m\"dtype\"\u001b[0m\u001b[1;33m,\u001b[0m \u001b[1;32mNone\u001b[0m\u001b[1;33m)\u001b[0m \u001b[1;33m!=\u001b[0m \u001b[0mDOUBLE\u001b[0m \u001b[1;32mor\u001b[0m \u001b[1;32mnot\u001b[0m \u001b[0my\u001b[0m\u001b[1;33m.\u001b[0m\u001b[0mflags\u001b[0m\u001b[1;33m.\u001b[0m\u001b[0mcontiguous\u001b[0m\u001b[1;33m:\u001b[0m\u001b[1;33m\u001b[0m\u001b[1;33m\u001b[0m\u001b[0m\n",
      "\u001b[1;32m~\\anaconda3\\lib\\site-packages\\sklearn\\ensemble\\_forest.py\u001b[0m in \u001b[0;36m_validate_y_class_weight\u001b[1;34m(self, y)\u001b[0m\n\u001b[0;32m    557\u001b[0m \u001b[1;33m\u001b[0m\u001b[0m\n\u001b[0;32m    558\u001b[0m     \u001b[1;32mdef\u001b[0m \u001b[0m_validate_y_class_weight\u001b[0m\u001b[1;33m(\u001b[0m\u001b[0mself\u001b[0m\u001b[1;33m,\u001b[0m \u001b[0my\u001b[0m\u001b[1;33m)\u001b[0m\u001b[1;33m:\u001b[0m\u001b[1;33m\u001b[0m\u001b[1;33m\u001b[0m\u001b[0m\n\u001b[1;32m--> 559\u001b[1;33m         \u001b[0mcheck_classification_targets\u001b[0m\u001b[1;33m(\u001b[0m\u001b[0my\u001b[0m\u001b[1;33m)\u001b[0m\u001b[1;33m\u001b[0m\u001b[1;33m\u001b[0m\u001b[0m\n\u001b[0m\u001b[0;32m    560\u001b[0m \u001b[1;33m\u001b[0m\u001b[0m\n\u001b[0;32m    561\u001b[0m         \u001b[0my\u001b[0m \u001b[1;33m=\u001b[0m \u001b[0mnp\u001b[0m\u001b[1;33m.\u001b[0m\u001b[0mcopy\u001b[0m\u001b[1;33m(\u001b[0m\u001b[0my\u001b[0m\u001b[1;33m)\u001b[0m\u001b[1;33m\u001b[0m\u001b[1;33m\u001b[0m\u001b[0m\n",
      "\u001b[1;32m~\\anaconda3\\lib\\site-packages\\sklearn\\utils\\multiclass.py\u001b[0m in \u001b[0;36mcheck_classification_targets\u001b[1;34m(y)\u001b[0m\n\u001b[0;32m    181\u001b[0m     if y_type not in ['binary', 'multiclass', 'multiclass-multioutput',\n\u001b[0;32m    182\u001b[0m                       'multilabel-indicator', 'multilabel-sequences']:\n\u001b[1;32m--> 183\u001b[1;33m         \u001b[1;32mraise\u001b[0m \u001b[0mValueError\u001b[0m\u001b[1;33m(\u001b[0m\u001b[1;34m\"Unknown label type: %r\"\u001b[0m \u001b[1;33m%\u001b[0m \u001b[0my_type\u001b[0m\u001b[1;33m)\u001b[0m\u001b[1;33m\u001b[0m\u001b[1;33m\u001b[0m\u001b[0m\n\u001b[0m\u001b[0;32m    184\u001b[0m \u001b[1;33m\u001b[0m\u001b[0m\n\u001b[0;32m    185\u001b[0m \u001b[1;33m\u001b[0m\u001b[0m\n",
      "\u001b[1;31mValueError\u001b[0m: Unknown label type: 'continuous'"
     ]
    }
   ],
   "source": [
    "from sklearn.ensemble import ExtraTreesClassifier\n",
    "model = ExtraTreesClassifier()\n",
    "y = y.values.ravel()\n",
    "model.fit(X, y)\n"
   ]
  },
  {
   "cell_type": "code",
   "execution_count": null,
   "id": "041322d5",
   "metadata": {},
   "outputs": [],
   "source": [
    "from sklearn.ensemble import ExtraTreesClassifier\n",
    "model = ExtraTreesClassifier()\n",
    "model.fit(X, y.values.ravel())\n"
   ]
  },
  {
   "cell_type": "code",
   "execution_count": null,
   "id": "5e25de1f",
   "metadata": {},
   "outputs": [],
   "source": [
    "# melakukan plot dari feature importances\n",
    "feat_importances = pd.Series(model.feature_importances_, index=X.columns)\n",
    "feat_importances.nlargest(10).plot(kind='barh')\n",
    "plt.show()"
   ]
  },
  {
   "cell_type": "markdown",
   "id": "30211321",
   "metadata": {},
   "source": [
    "### Modeling"
   ]
  },
  {
   "cell_type": "markdown",
   "id": "aeedac80",
   "metadata": {},
   "source": [
    "#### Regresi Linear (without feature scaling)"
   ]
  },
  {
   "cell_type": "markdown",
   "id": "c787d573",
   "metadata": {},
   "source": [
    "Untuk melakukan regresi linear, kita perlu mengetahui independent variable mana yang paling berpengaruh ke dependent variabel (curah_hujan)"
   ]
  },
  {
   "cell_type": "code",
   "execution_count": null,
   "id": "1a2459da",
   "metadata": {},
   "outputs": [],
   "source": [
    "plt.figure(figsize=(9, 9))\n",
    "sns.heatmap(pd.concat([X, y], axis=1).corr() ,annot=True ,fmt=\".2f\").set_title(\"Korelasi Heatmap Calon Variabel X\")\n",
    "plt.show()"
   ]
  },
  {
   "cell_type": "markdown",
   "id": "50be995a",
   "metadata": {},
   "source": [
    "Dari hasil visualisasi diatas, dapat diketahui humid_avg memiliki korelasi yang tinggi terhadap kolom curah_hujan / variabel dependent sehingga kita mengambil fitur/kolom humid_avg untuk di training\n",
    "\n",
    "    Independent variabel(X) adalah humid_avg.\n",
    "    Dependent variabel(y) adalah curah_hujan.\n",
    "\n"
   ]
  },
  {
   "cell_type": "code",
   "execution_count": null,
   "id": "355e3ee8",
   "metadata": {},
   "outputs": [],
   "source": [
    "# Train-Validation Split\n",
    "from sklearn.model_selection import train_test_split\n",
    "\n",
    "X_train_reg, X_test_reg, y_train_reg, y_test_reg = train_test_split(X.iloc[:, 3].values.reshape(-1, 1), y.values.reshape(-1,1), train_size=0.7, random_state = 100)"
   ]
  },
  {
   "cell_type": "code",
   "execution_count": null,
   "id": "56fd8773",
   "metadata": {},
   "outputs": [],
   "source": []
  },
  {
   "cell_type": "code",
   "execution_count": null,
   "id": "9c93c754",
   "metadata": {},
   "outputs": [],
   "source": [
    "from sklearn import linear_model\n",
    "\n",
    "regressor = linear_model.LinearRegression()\n",
    "regressor.fit(X_train_reg, y_train_reg)"
   ]
  },
  {
   "cell_type": "code",
   "execution_count": null,
   "id": "dc0f670f",
   "metadata": {},
   "outputs": [],
   "source": [
    "print(regressor.coef_)\n",
    "print(regressor.intercept_)"
   ]
  },
  {
   "cell_type": "code",
   "execution_count": null,
   "id": "0f62c348",
   "metadata": {},
   "outputs": [],
   "source": [
    "regressor.score(X_test_reg, y_test_reg)"
   ]
  },
  {
   "cell_type": "markdown",
   "id": "2a4cec37",
   "metadata": {},
   "source": [
    "Model kita mendapatkan accuracy score sebesar 19.08%"
   ]
  },
  {
   "cell_type": "code",
   "execution_count": null,
   "id": "f3543934",
   "metadata": {},
   "outputs": [],
   "source": [
    "y_prediksi = regressor.predict(X_test_reg)\n",
    "\n",
    "plt.scatter(X_test_reg, y_test_reg)\n",
    "plt.plot(X_test_reg, y_prediksi, c='r')\n",
    "plt.xlabel('Kelembapan rata-rata (%)')\n",
    "plt.ylabel('Curah hujan (mm)')\n",
    "plt.title('Plot Kelembapan rata-rata vs Curah Hujan')"
   ]
  },
  {
   "cell_type": "code",
   "execution_count": null,
   "id": "d3b88a56",
   "metadata": {},
   "outputs": [],
   "source": []
  },
  {
   "cell_type": "markdown",
   "id": "211392d5",
   "metadata": {},
   "source": [
    "###### Decision Tree (without feature scaling)"
   ]
  },
  {
   "cell_type": "code",
   "execution_count": null,
   "id": "30649f49",
   "metadata": {},
   "outputs": [],
   "source": [
    "X = df.loc[:, ['humid_avg']].values\n",
    "y = df.loc[:, ['curah_hujan']].values"
   ]
  },
  {
   "cell_type": "code",
   "execution_count": null,
   "id": "1c565d6f",
   "metadata": {},
   "outputs": [],
   "source": [
    "# Train-Validation Split\n",
    "# Using average humidity\n",
    "from sklearn.model_selection import train_test_split\n",
    "\n",
    "X_train, X_test, y_train, y_test = train_test_split(X, y, train_size=0.7, random_state = 100)"
   ]
  },
  {
   "cell_type": "code",
   "execution_count": null,
   "id": "10894676",
   "metadata": {},
   "outputs": [],
   "source": [
    "from sklearn.tree import DecisionTreeRegressor\n",
    "regressor = DecisionTreeRegressor()\n",
    "regressor.fit(X_train, y_train)"
   ]
  },
  {
   "cell_type": "code",
   "execution_count": null,
   "id": "2d6e9954",
   "metadata": {},
   "outputs": [],
   "source": [
    "# Visualization\n",
    "X_grid = np.arange(min(X), max(X), 0.01)\n",
    "X_grid = X_grid.reshape((len(X_grid), 1))\n",
    "plt.scatter(X, y, color='blue', alpha=0.3)\n",
    "plt.plot(X_grid, regressor.predict(X_grid), color='red')\n",
    "plt.title('Kelembapan rata-rata vs Curah hujan')\n",
    "plt.xlabel('Kelembapan rata rata (%)')\n",
    "plt.ylabel('Curah hujan (mm)')"
   ]
  },
  {
   "cell_type": "code",
   "execution_count": null,
   "id": "c20e3908",
   "metadata": {},
   "outputs": [],
   "source": [
    "#from sklearn import tree\n",
    "\n",
    "plt.figure(figsize=(20, 20))\n",
    "tree.plot_tree(regressor, filled = True)\n",
    "plt.show()"
   ]
  },
  {
   "cell_type": "code",
   "execution_count": null,
   "id": "04b8264d",
   "metadata": {},
   "outputs": [],
   "source": []
  },
  {
   "cell_type": "markdown",
   "id": "8f3696c5",
   "metadata": {},
   "source": [
    "##### Random Forest"
   ]
  },
  {
   "cell_type": "code",
   "execution_count": null,
   "id": "4c808e4d",
   "metadata": {},
   "outputs": [],
   "source": []
  }
 ],
 "metadata": {
  "kernelspec": {
   "display_name": "Python 3",
   "language": "python",
   "name": "python3"
  },
  "language_info": {
   "codemirror_mode": {
    "name": "ipython",
    "version": 3
   },
   "file_extension": ".py",
   "mimetype": "text/x-python",
   "name": "python",
   "nbconvert_exporter": "python",
   "pygments_lexer": "ipython3",
   "version": "3.8.8"
  }
 },
 "nbformat": 4,
 "nbformat_minor": 5
}
